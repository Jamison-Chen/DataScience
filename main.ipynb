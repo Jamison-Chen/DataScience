{
 "cells": [
  {
   "cell_type": "code",
   "execution_count": null,
   "metadata": {},
   "outputs": [],
   "source": [
    "from myToolBox.utils import testModel, plotDecisionBoundary, plotLoss"
   ]
  },
  {
   "cell_type": "code",
   "execution_count": null,
   "metadata": {},
   "outputs": [],
   "source": [
    "from myToolBox.psuedoDataGenerator import independent_groups\n",
    "x, y = independent_groups(size=300, group=2)"
   ]
  },
  {
   "cell_type": "code",
   "execution_count": null,
   "metadata": {},
   "outputs": [],
   "source": [
    "from sklearn.model_selection import train_test_split\n",
    "x_train, x_test, y_train, y_test = train_test_split(x, y, test_size=0.2)"
   ]
  },
  {
   "cell_type": "code",
   "execution_count": null,
   "metadata": {},
   "outputs": [],
   "source": [
    "from myToolBox.models import KNN\n",
    "knnModel = KNN(k=3)\n",
    "knnModel.fit(x_train, y_train)\n",
    "testModel(knnModel, x_train, y_train, x_test, y_test)\n",
    "plotDecisionBoundary(knnModel, x_test, y_test)"
   ]
  },
  {
   "cell_type": "code",
   "execution_count": null,
   "metadata": {},
   "outputs": [],
   "source": [
    "from sklearn.neighbors import KNeighborsClassifier\n",
    "classifier = KNeighborsClassifier(n_neighbors=3)\n",
    "classifier.fit(x_train, y_train.squeeze())\n",
    "testModel(classifier, x_train, y_train, x_test, y_test)\n",
    "plotDecisionBoundary(classifier, x_test, y_test)"
   ]
  },
  {
   "cell_type": "code",
   "execution_count": null,
   "metadata": {},
   "outputs": [],
   "source": [
    "from myToolBox.models import GenerativeModel\n",
    "nbc = GenerativeModel(naive_bayes=True, share_cov=False)\n",
    "nbc.fit(x_train, y_train)\n",
    "testModel(nbc, x_train, y_train, x_test, y_test)\n",
    "plotDecisionBoundary(nbc, x_test, y_test)"
   ]
  },
  {
   "cell_type": "code",
   "execution_count": null,
   "metadata": {},
   "outputs": [],
   "source": [
    "from sklearn.naive_bayes import GaussianNB\n",
    "gnb = GaussianNB()\n",
    "gnb.fit(x_train, y_train.squeeze())\n",
    "testModel(gnb, x_train, y_train, x_test, y_test)\n",
    "plotDecisionBoundary(gnb, x_test, y_test)"
   ]
  },
  {
   "cell_type": "code",
   "execution_count": null,
   "metadata": {},
   "outputs": [],
   "source": [
    "from myToolBox.models import DichotomousLogistic\n",
    "sLogR = DichotomousLogistic(learningRate=1e-4, numOfLoop=1000)\n",
    "sLogR.fit(x_train, y_train)\n",
    "testModel(sLogR, x_train, y_train, x_test, y_test)\n",
    "plotDecisionBoundary(sLogR, x_test, y_test)"
   ]
  },
  {
   "cell_type": "code",
   "execution_count": null,
   "metadata": {},
   "outputs": [],
   "source": [
    "plotLoss(sLogR)"
   ]
  },
  {
   "cell_type": "code",
   "execution_count": null,
   "metadata": {},
   "outputs": [],
   "source": [
    "from myToolBox.models import LogisticRegression\n",
    "logRe = LogisticRegression(learningRate=1e-4, numOfLoop=1000)\n",
    "logRe.fit(x_train, y_train)\n",
    "testModel(logRe, x_train, y_train, x_test, y_test)\n",
    "plotDecisionBoundary(logRe, x_test, y_test)"
   ]
  },
  {
   "cell_type": "code",
   "execution_count": null,
   "metadata": {},
   "outputs": [],
   "source": [
    "plotLoss(logRe)"
   ]
  },
  {
   "cell_type": "code",
   "execution_count": null,
   "metadata": {},
   "outputs": [],
   "source": [
    "from myToolBox.models import TL_FC_NN\n",
    "# from myToolBox.functions import CrossEntropy, ReLU, Softmax\n",
    "nn = TL_FC_NN(hiddenLayerNodeNumber=5, learningRate=1e-4, numOfLoop=1000)\n",
    "# nn.loss_function = CrossEntropy()\n",
    "# nn.activation_function = Softmax()\n",
    "nn.fit(x_train, y_train)\n",
    "testModel(nn, x_train, y_train, x_test, y_test)\n",
    "plotDecisionBoundary(nn, x_test, y_test)"
   ]
  },
  {
   "cell_type": "code",
   "execution_count": null,
   "metadata": {},
   "outputs": [],
   "source": [
    "plotLoss(nn)"
   ]
  },
  {
   "cell_type": "code",
   "execution_count": null,
   "metadata": {},
   "outputs": [],
   "source": []
  }
 ],
 "metadata": {
  "interpreter": {
   "hash": "8fac594bfae6525c0c41b4041d2d72effa188cc8ead05f81b1fab2bb098927fb"
  },
  "kernelspec": {
   "display_name": "Python 3.8.3 64-bit ('base': conda)",
   "language": "python",
   "name": "python3"
  },
  "language_info": {
   "codemirror_mode": {
    "name": "ipython",
    "version": 3
   },
   "file_extension": ".py",
   "mimetype": "text/x-python",
   "name": "python",
   "nbconvert_exporter": "python",
   "pygments_lexer": "ipython3",
   "version": "3.10.2"
  },
  "orig_nbformat": 4
 },
 "nbformat": 4,
 "nbformat_minor": 2
}
