{
 "cells": [
  {
   "cell_type": "markdown",
   "metadata": {},
   "source": [
    "#### Import Necessary Packages"
   ]
  },
  {
   "cell_type": "code",
   "execution_count": 1,
   "metadata": {},
   "outputs": [],
   "source": [
    "from myToolBox.utils import testModel, plotLoss\n",
    "from myToolBox.models import KNN, LogisticRegression, TL_FC_NN_Classifier\n",
    "from sklearn.naive_bayes import GaussianNB\n",
    "from myToolBox.functions import CrossEntropy, ReLU, Softmax\n",
    "from sklearn.model_selection import train_test_split\n",
    "from sklearn.tree import DecisionTreeClassifier\n",
    "from sklearn.ensemble import RandomForestClassifier\n",
    "from sklearn.svm import SVC\n",
    "from sklearn import preprocessing\n",
    "import json\n",
    "import numpy as np"
   ]
  },
  {
   "cell_type": "markdown",
   "metadata": {},
   "source": [
    "#### Prepare Data"
   ]
  },
  {
   "cell_type": "code",
   "execution_count": 8,
   "metadata": {},
   "outputs": [],
   "source": [
    "X = []\n",
    "Y = []\n",
    "feature_dict = {}\n",
    "answer_dict = {}\n",
    "files = [\"./stock_data/tse_stage3.json\", \"./stock_data/otc_stage3.json\"]\n",
    "for i, file in enumerate(files):\n",
    "    with open(file) as f:\n",
    "        data = json.loads(f.read())\n",
    "        allStocks = data[\"stock\"]\n",
    "        for sid in allStocks:\n",
    "            X.append(allStocks[sid])\n",
    "            Y.append([i])\n",
    "            feature_dict[sid] = allStocks[sid]\n",
    "            answer_dict[sid] = i\n",
    "X = np.array(X, dtype=np.float32)\n",
    "Y = np.array(Y, dtype=np.int32)\n",
    "x_train, x_test, y_train, y_test = train_test_split(X, Y, test_size=0.2)\n",
    "scaler = preprocessing.StandardScaler().fit(x_train)\n",
    "x_train = scaler.transform(x_train)\n",
    "x_test = scaler.transform(x_test)"
   ]
  },
  {
   "cell_type": "code",
   "execution_count": 9,
   "metadata": {},
   "outputs": [],
   "source": [
    "def selectStock(*sids, scaler):\n",
    "    res = []\n",
    "    for sid in sids:\n",
    "        res.append(feature_dict[sid])\n",
    "    res = np.array(res, dtype=np.float32)\n",
    "    res = scaler.transform(res)\n",
    "    return res\n",
    "def getAnswer(*sids):\n",
    "    res = []\n",
    "    for sid in sids:\n",
    "        res.append(answer_dict[sid])\n",
    "    return np.array(res)"
   ]
  },
  {
   "cell_type": "markdown",
   "metadata": {},
   "source": [
    "#### Try Each Model"
   ]
  },
  {
   "cell_type": "markdown",
   "metadata": {},
   "source": [
    "##### KNN"
   ]
  },
  {
   "cell_type": "code",
   "execution_count": null,
   "metadata": {},
   "outputs": [],
   "source": [
    "knnModel = KNN(k=3)\n",
    "knnModel.fit(x_train, y_train)\n",
    "testModel(knnModel, x_train, y_train, x_test, y_test)"
   ]
  },
  {
   "cell_type": "markdown",
   "metadata": {},
   "source": [
    "##### Gaussian Naive Base"
   ]
  },
  {
   "cell_type": "code",
   "execution_count": null,
   "metadata": {},
   "outputs": [],
   "source": [
    "gnb = GaussianNB()\n",
    "gnb.fit(x_train, y_train.squeeze())\n",
    "testModel(gnb, x_train, y_train, x_test, y_test)"
   ]
  },
  {
   "cell_type": "markdown",
   "metadata": {},
   "source": [
    "##### Logistic Regression"
   ]
  },
  {
   "cell_type": "code",
   "execution_count": 3,
   "metadata": {},
   "outputs": [
    {
     "name": "stdout",
     "output_type": "stream",
     "text": [
      "Training Accuracy: 0.7813\n",
      "Testing Accuracy: 0.7003\n"
     ]
    },
    {
     "data": {
      "image/png": "[encoded data removed]",
      "text/plain": [
       "<Figure size 432x288 with 1 Axes>"
      ]
     },
     "metadata": {
      "needs_background": "light"
     },
     "output_type": "display_data"
    }
   ],
   "source": [
    "logRe = LogisticRegression()\n",
    "logRe.fit(x_train, y_train, lr=1e-4, epoch=2000)\n",
    "testModel(logRe, x_train, y_train, x_test, y_test)\n",
    "plotLoss(logRe)"
   ]
  },
  {
   "cell_type": "markdown",
   "metadata": {},
   "source": [
    "##### Two-Layer Fully-Connected Neural Network"
   ]
  },
  {
   "cell_type": "code",
   "execution_count": 7,
   "metadata": {},
   "outputs": [
    {
     "name": "stdout",
     "output_type": "stream",
     "text": [
      "Training Accuracy: 0.7362\n",
      "Testing Accuracy: 0.6850\n"
     ]
    },
    {
     "data": {
      "image/png": "[encoded data removed]",
      "text/plain": [
       "<Figure size 432x288 with 1 Axes>"
      ]
     },
     "metadata": {
      "needs_background": "light"
     },
     "output_type": "display_data"
    }
   ],
   "source": [
    "nn = TL_FC_NN_Classifier(hiddenLayerNodeNumber=280)\n",
    "nn.loss_function = CrossEntropy()\n",
    "# nn.activation_function = ReLU()\n",
    "nn.fit(x_train, y_train, lr=1e-4, batch_size=20, epoch=500)\n",
    "testModel(nn, x_train, y_train, x_test, y_test)\n",
    "plotLoss(nn)"
   ]
  },
  {
   "cell_type": "markdown",
   "metadata": {},
   "source": [
    "##### Decision Tree"
   ]
  },
  {
   "cell_type": "code",
   "execution_count": null,
   "metadata": {},
   "outputs": [],
   "source": [
    "dt = DecisionTreeClassifier(max_depth=5)\n",
    "dt.fit(x_train, y_train.squeeze())\n",
    "testModel(dt, x_train, y_train, x_test, y_test)"
   ]
  },
  {
   "cell_type": "markdown",
   "metadata": {},
   "source": [
    "##### Random Forest"
   ]
  },
  {
   "cell_type": "code",
   "execution_count": null,
   "metadata": {},
   "outputs": [],
   "source": [
    "rf = RandomForestClassifier(max_depth=5, n_estimators=10)\n",
    "rf.fit(x_train, y_train.squeeze())\n",
    "testModel(rf, x_train, y_train, x_test, y_test)"
   ]
  },
  {
   "cell_type": "markdown",
   "metadata": {},
   "source": [
    "##### Support Vector Machine"
   ]
  },
  {
   "cell_type": "code",
   "execution_count": null,
   "metadata": {},
   "outputs": [],
   "source": [
    "svm = SVC(kernel='rbf')\n",
    "svm.fit(x_train, y_train.squeeze())\n",
    "testModel(svm, x_train, y_train, x_test, y_test)"
   ]
  },
  {
   "cell_type": "code",
   "execution_count": 10,
   "metadata": {},
   "outputs": [
    {
     "name": "stdout",
     "output_type": "stream",
     "text": [
      "[0 0 0 0 0 0 1 0]\n",
      "[0 1 0 0 0 0 1 0]\n"
     ]
    }
   ],
   "source": [
    "sidQueryList = [\"2303\", \"3105\", \"3711\", \"6239\", \"3035\", \"3034\", \"6425\", \"2379\"]\n",
    "print(nn.predict(selectStock(*sidQueryList, scaler=scaler)))\n",
    "print(getAnswer(*sidQueryList))"
   ]
  },
  {
   "cell_type": "code",
   "execution_count": null,
   "metadata": {},
   "outputs": [],
   "source": []
  }
 ],
 "metadata": {
  "interpreter": {
   "hash": "38c8c8f96fd46a582aaa5b513d06ab24740b06571bcfe733504dec7f96fd0b9e"
  },
  "kernelspec": {
   "display_name": "Python 3.10.2 ('DataScience-3vyKW5hY')",
   "language": "python",
   "name": "python3"
  },
  "language_info": {
   "codemirror_mode": {
    "name": "ipython",
    "version": 3
   },
   "file_extension": ".py",
   "mimetype": "text/x-python",
   "name": "python",
   "nbconvert_exporter": "python",
   "pygments_lexer": "ipython3",
   "version": "3.10.2"
  },
  "orig_nbformat": 4
 },
 "nbformat": 4,
 "nbformat_minor": 2
}
